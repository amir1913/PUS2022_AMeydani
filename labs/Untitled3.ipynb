{
  "nbformat": 4,
  "nbformat_minor": 0,
  "metadata": {
    "colab": {
      "provenance": [],
      "collapsed_sections": [],
      "authorship_tag": "ABX9TyNVrVv/tbp08FpHwFlSu689",
      "include_colab_link": true
    },
    "kernelspec": {
      "name": "python3",
      "display_name": "Python 3"
    },
    "language_info": {
      "name": "python"
    }
  },
  "cells": [
    {
      "cell_type": "markdown",
      "metadata": {
        "id": "view-in-github",
        "colab_type": "text"
      },
      "source": [
        "<a href=\"https://colab.research.google.com/github/amir1913/PUS2022_AMeydani/blob/main/labs/Untitled3.ipynb\" target=\"_parent\"><img src=\"https://colab.research.google.com/assets/colab-badge.svg\" alt=\"Open In Colab\"/></a>"
      ]
    },
    {
      "cell_type": "code",
      "execution_count": null,
      "metadata": {
        "id": "JgtZUhLckEO5"
      },
      "outputs": [],
      "source": [
        "Import pandas as pd\n",
        "\n",
        "\n",
        "pd.read_csv('https://raw.githubusercontent.com/fedhere/PUS2022_FBianco/main/classdemo/times.txt'header=none, names=[\"times\"])\n",
        "mu = 34 #durarion mean in minute\n",
        "sig = 2.5 #Duration standard deviation in minute\n",
        "\n",
        "def Ztest(m, s, data)\n",
        " \"\"\"a function to calculate Z statistics \n",
        " Input:\n",
        " m: (float) = the mean of the population\n",
        " a: (float) = the standard dev. of a pop\n",
        " data: (pandas dataframe) = contain the sample data - Should have a single series\n",
        " \"\"\"\n",
        " assert data.shape[1] == 1, \"You should a dataframe with only one coulumn\"\n",
        " z = m - data.iloc[:, 0].mean() / (s / np.sqrt(data.shape[0]))\n",
        " return"
      ]
    },
    {
      "cell_type": "code",
      "source": [
        "\n",
        "Ztest(mu, sig, x[[\"times\"]])"
      ],
      "metadata": {
        "id": "B5yTaIoDpQzk"
      },
      "execution_count": null,
      "outputs": []
    },
    {
      "cell_type": "code",
      "source": [],
      "metadata": {
        "id": "UxOSArIfprjt"
      },
      "execution_count": null,
      "outputs": []
    }
  ]
}