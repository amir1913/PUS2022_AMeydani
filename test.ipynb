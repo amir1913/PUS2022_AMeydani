{
  "nbformat": 4,
  "nbformat_minor": 0,
  "metadata": {
    "colab": {
      "provenance": [],
      "authorship_tag": "ABX9TyMfmc0E7peuyD8I1SGE0D41",
      "include_colab_link": true
    },
    "kernelspec": {
      "name": "python3",
      "display_name": "Python 3"
    },
    "language_info": {
      "name": "python"
    }
  },
  "cells": [
    {
      "cell_type": "markdown",
      "metadata": {
        "id": "view-in-github",
        "colab_type": "text"
      },
      "source": [
        "<a href=\"https://colab.research.google.com/github/amir1913/PUS2022_AMeydani/blob/main/test.ipynb\" target=\"_parent\"><img src=\"https://colab.research.google.com/assets/colab-badge.svg\" alt=\"Open In Colab\"/></a>"
      ]
    },
    {
      "cell_type": "code",
      "execution_count": 1,
      "metadata": {
        "colab": {
          "base_uri": "https://localhost:8080/"
        },
        "id": "dlNOieaqLfqN",
        "outputId": "e2e9087c-5cbc-4e2e-b59b-b62b270f8c2b"
      },
      "outputs": [
        {
          "output_type": "stream",
          "name": "stdout",
          "text": [
            "hello World!\n"
          ]
        }
      ],
      "source": [
        "print (\"hello World!\")"
      ]
    },
    {
      "cell_type": "markdown",
      "source": [
        "Make a plot of a line."
      ],
      "metadata": {
        "id": "b2iRMxXfMGVI"
      }
    },
    {
      "cell_type": "code",
      "source": [
        "xx=list(range(10))"
      ],
      "metadata": {
        "id": "-oUM5z-GLlUK"
      },
      "execution_count": 2,
      "outputs": []
    },
    {
      "cell_type": "code",
      "source": [
        "print (xx)"
      ],
      "metadata": {
        "colab": {
          "base_uri": "https://localhost:8080/"
        },
        "id": "bvj0DM-8O5dQ",
        "outputId": "16dcf3e8-e95d-41c7-f095-ce9dfa19f241"
      },
      "execution_count": 5,
      "outputs": [
        {
          "output_type": "stream",
          "name": "stdout",
          "text": [
            "[0, 1, 2, 3, 4, 5, 6, 7, 8, 9]\n"
          ]
        }
      ]
    },
    {
      "cell_type": "code",
      "source": [
        "import pylab\n",
        "pylab.plot(xx, xx)\n",
        "pylab.xlabel(\"x\")\n",
        "pylab.ylabel(\"y\")"
      ],
      "metadata": {
        "colab": {
          "base_uri": "https://localhost:8080/",
          "height": 296
        },
        "id": "_4BXRjGrO9Bo",
        "outputId": "41c0c538-90ba-4ece-cb49-3f2060d2bcb2"
      },
      "execution_count": 10,
      "outputs": [
        {
          "output_type": "execute_result",
          "data": {
            "text/plain": [
              "Text(0, 0.5, 'y')"
            ]
          },
          "metadata": {},
          "execution_count": 10
        },
        {
          "output_type": "display_data",
          "data": {
            "text/plain": [
              "<Figure size 432x288 with 1 Axes>"
            ],
            "image/png": "[encoded data removed]"
          },
          "metadata": {
            "needs_background": "light"
          }
        }
      ]
    },
    {
      "cell_type": "markdown",
      "source": [
        "Figure 1: The plot of x infront of y"
      ],
      "metadata": {
        "id": "NPmVlmgkWoRf"
      }
    },
    {
      "cell_type": "code",
      "source": [],
      "metadata": {
        "id": "X3ItjV_xSPhJ"
      },
      "execution_count": null,
      "outputs": []
    }
  ]
}